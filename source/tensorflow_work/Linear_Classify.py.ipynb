{
 "cells": [
  {
   "cell_type": "code",
   "execution_count": 12,
   "metadata": {},
   "outputs": [],
   "source": [
    "import tensorflow as tf\n",
    "import numpy as np\n",
    "import matplotlib.pyplot as plt"
   ]
  },
  {
   "cell_type": "code",
   "execution_count": 13,
   "metadata": {},
   "outputs": [
    {
     "data": {
      "text/plain": [
       "<matplotlib.collections.PathCollection at 0x1137017f0>"
      ]
     },
     "execution_count": 13,
     "metadata": {},
     "output_type": "execute_result"
    },
    {
     "data": {
      "image/png": "[encoded data removed]",
      "text/plain": [
       "<matplotlib.figure.Figure at 0x102d05048>"
      ]
     },
     "metadata": {},
     "output_type": "display_data"
    }
   ],
   "source": [
    "x_label0 = np.random.normal(5, 1, 10)\n",
    "x_label1 = np.random.normal(2, 1, 10)\n",
    "xs = np.append(x_label0, x_label1)\n",
    "labels = [0.] * len(x_label0) + [1.] * len(x_label1)\n",
    "\n",
    "plt.scatter(xs, labels)"
   ]
  },
  {
   "cell_type": "code",
   "execution_count": 14,
   "metadata": {},
   "outputs": [],
   "source": [
    "learning_rate = 0.001\n",
    "training_epochs = 10000\n",
    "\n",
    "X = tf.placeholder(\"float\")\n",
    "Y = tf.placeholder(\"float\")"
   ]
  },
  {
   "cell_type": "code",
   "execution_count": 15,
   "metadata": {},
   "outputs": [],
   "source": [
    "def model(X, w):\n",
    "    return tf.add(tf.multiply(w[1], tf.pow(X, 1)),\n",
    "                 tf.multiply(w[0], tf.pow(X, 0)))"
   ]
  },
  {
   "cell_type": "code",
   "execution_count": 16,
   "metadata": {},
   "outputs": [],
   "source": [
    "w = tf.Variable([0., 0.], name=\"parameters\")\n",
    "y_model = model(X, w)\n",
    "cost = tf.reduce_sum(tf.square(Y-y_model))\n",
    "\n",
    "train_op = tf.train.GradientDescentOptimizer(learning_rate).minimize(cost)"
   ]
  },
  {
   "cell_type": "code",
   "execution_count": 17,
   "metadata": {},
   "outputs": [
    {
     "name": "stdout",
     "output_type": "stream",
     "text": [
      "0 8.130497\n",
      "100 3.6086535\n",
      "200 2.229353\n",
      "300 1.7943183\n",
      "400 1.6571069\n",
      "500 1.6138297\n",
      "600 1.6001803\n",
      "700 1.595875\n",
      "800 1.5945174\n",
      "900 1.594089\n",
      "1000 1.593954\n",
      "1100 1.5939114\n",
      "1200 1.5938978\n",
      "1300 1.5938938\n",
      "1400 1.5938925\n",
      "1500 1.5938919\n",
      "1600 1.5938916\n",
      "1700 1.5938916\n",
      "1800 1.5938917\n",
      "1900 1.5938917\n",
      "2000 1.5938917\n",
      "2100 1.5938916\n",
      "2200 1.5938916\n",
      "2300 1.5938916\n",
      "2400 1.5938916\n",
      "2500 1.5938916\n",
      "2600 1.5938916\n",
      "2700 1.5938916\n",
      "2800 1.5938916\n",
      "2900 1.5938916\n",
      "3000 1.5938916\n",
      "3100 1.5938916\n",
      "3200 1.5938916\n",
      "3300 1.5938916\n",
      "3400 1.5938916\n",
      "3500 1.5938916\n",
      "3600 1.5938916\n",
      "3700 1.5938916\n",
      "3800 1.5938916\n",
      "3900 1.5938916\n",
      "4000 1.5938916\n",
      "4100 1.5938916\n",
      "4200 1.5938916\n",
      "4300 1.5938916\n",
      "4400 1.5938916\n",
      "4500 1.5938916\n",
      "4600 1.5938916\n",
      "4700 1.5938916\n",
      "4800 1.5938916\n",
      "4900 1.5938916\n",
      "5000 1.5938916\n",
      "5100 1.5938916\n",
      "5200 1.5938916\n",
      "5300 1.5938916\n",
      "5400 1.5938916\n",
      "5500 1.5938916\n",
      "5600 1.5938916\n",
      "5700 1.5938916\n",
      "5800 1.5938916\n",
      "5900 1.5938916\n",
      "6000 1.5938916\n",
      "6100 1.5938916\n",
      "6200 1.5938916\n",
      "6300 1.5938916\n",
      "6400 1.5938916\n",
      "6500 1.5938916\n",
      "6600 1.5938916\n",
      "6700 1.5938916\n",
      "6800 1.5938916\n",
      "6900 1.5938916\n",
      "7000 1.5938916\n",
      "7100 1.5938916\n",
      "7200 1.5938916\n",
      "7300 1.5938916\n",
      "7400 1.5938916\n",
      "7500 1.5938916\n",
      "7600 1.5938916\n",
      "7700 1.5938916\n",
      "7800 1.5938916\n",
      "7900 1.5938916\n",
      "8000 1.5938916\n",
      "8100 1.5938916\n",
      "8200 1.5938916\n",
      "8300 1.5938916\n",
      "8400 1.5938916\n",
      "8500 1.5938916\n",
      "8600 1.5938916\n",
      "8700 1.5938916\n",
      "8800 1.5938916\n",
      "8900 1.5938916\n",
      "9000 1.5938916\n",
      "9100 1.5938916\n",
      "9200 1.5938916\n",
      "9300 1.5938916\n",
      "9400 1.5938916\n",
      "9500 1.5938916\n",
      "9600 1.5938916\n",
      "9700 1.5938916\n",
      "9800 1.5938916\n",
      "9900 1.5938916\n"
     ]
    }
   ],
   "source": [
    "sess = tf.Session()\n",
    "init = tf.global_variables_initializer()\n",
    "sess.run(init)\n",
    "\n",
    "for epoch in range(training_epochs):\n",
    "    sess.run(train_op, feed_dict={X: xs, Y: labels})\n",
    "    current_cost = sess.run(cost, feed_dict={X: xs, Y: labels})\n",
    "    \n",
    "    if epoch % 100 == 0:\n",
    "        print(epoch, current_cost)"
   ]
  },
  {
   "cell_type": "code",
   "execution_count": 18,
   "metadata": {},
   "outputs": [
    {
     "name": "stdout",
     "output_type": "stream",
     "text": [
      "learned parameters [ 1.478648   -0.25587505]\n",
      "accuracy 0.95\n"
     ]
    },
    {
     "data": {
      "image/png": "[encoded data removed]",
      "text/plain": [
       "<matplotlib.figure.Figure at 0x11406aa90>"
      ]
     },
     "metadata": {},
     "output_type": "display_data"
    }
   ],
   "source": [
    "w_val = sess.run(w)\n",
    "print('learned parameters', w_val)\n",
    "\n",
    "correct_prediction = tf.equal(Y, tf.to_float(tf.greater(y_model, 0.5)))\n",
    "accuracy = tf.reduce_mean(tf.to_float(correct_prediction))\n",
    "   \n",
    "print('accuracy', sess.run(accuracy, feed_dict={X: xs, Y: labels}))\n",
    "\n",
    "sess.close()\n",
    "\n",
    "all_xs = np.linspace(0, 10, 100)\n",
    "plt.plot(all_xs, all_xs*w_val[1] + w_val[0])\n",
    "plt.show()"
   ]
  },
  {
   "cell_type": "code",
   "execution_count": null,
   "metadata": {},
   "outputs": [],
   "source": []
  }
 ],
 "metadata": {
  "kernelspec": {
   "display_name": "Python 3",
   "language": "python",
   "name": "python3"
  },
  "language_info": {
   "codemirror_mode": {
    "name": "ipython",
    "version": 3
   },
   "file_extension": ".py",
   "mimetype": "text/x-python",
   "name": "python",
   "nbconvert_exporter": "python",
   "pygments_lexer": "ipython3",
   "version": "3.6.4"
  }
 },
 "nbformat": 4,
 "nbformat_minor": 2
}
