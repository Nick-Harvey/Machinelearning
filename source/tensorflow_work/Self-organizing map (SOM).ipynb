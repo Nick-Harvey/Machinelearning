{
 "cells": [
  {
   "cell_type": "code",
   "execution_count": 1,
   "metadata": {},
   "outputs": [],
   "source": [
    "import tensorflow as tf\n",
    "import numpy as np"
   ]
  },
  {
   "cell_type": "code",
   "execution_count": 2,
   "metadata": {},
   "outputs": [],
   "source": [
    "class SOM:\n",
    "    def __init__(self, width, height, dim):\n",
    "        self.num_iters = 100\n",
    "        self.width = width\n",
    "        self.height = height\n",
    "        self.dim = dim\n",
    "        self.node_locs = self.get_locs()\n",
    "        \n",
    "        nodes = tf.Variable(tf.random_normal([width*height, dim]))\n",
    "        self.nodes = nodes\n",
    "        \n",
    "        x = tf.placeholder(tf.float32, [dim])\n",
    "        iter = tf.placeholder(tf.float32)\n",
    "        \n",
    "        self.x = x\n",
    "        self.iter = iter\n",
    "        \n",
    "        bmu_loc = self.get_bmu_loc(x)\n",
    "        \n",
    "        self.propagate_nodes = self.get_propagation(bmu_loc, x, iter)"
   ]
  },
  {
   "cell_type": "code",
   "execution_count": 5,
   "metadata": {},
   "outputs": [],
   "source": [
    "    def get_propagation(self, bmu_loc, x, iter):\n",
    "        num_nodes = self.width * self.height\n",
    "        rate = 1.0 - tf.div(iter, self.num_iters)\n",
    "        alpha = rate * 0.5\n",
    "        sigma = rate * tf.to_float(tf.maximum(self.width, self.height)) / 2.\n",
    "        expanded_bmu_loc = tf.expand_dims(tf.to_float(bmu_loc), 0)\n",
    "        sqr_dists_from_bmu = tf.reduce_sum(\n",
    "            tf.square(tf.subtract(expanded_bmu_loc, self.node_locs)), 1)\n",
    "        neigh_factor = tf.stack([tf.tile(tf.slice(rate, [i], [1]), [self.dim]) for i in range(num_nodes)])\n",
    "        nodes_diff = tf.multiply(\n",
    "            rate_factor,\n",
    "            tf.subtract(tf.stack([x for i in range(num_nodes)]), self.nodes))\n",
    "        update_nodes = tf.add(self.nodes, nodes_diff)\n",
    "        return tf.assign(self.nodes, update_nodes)"
   ]
  },
  {
   "cell_type": "code",
   "execution_count": 8,
   "metadata": {},
   "outputs": [],
   "source": [
    "    def get_bmu_loc(self, x):\n",
    "        expanded_x = tf.expand_dims(x, 0)\n",
    "        sqr_diff = tf.square(tf.subtract(expanded_x, self.nodes))\n",
    "        dists = tf.reduce_sum(sqr_diff, 1)\n",
    "        bmu_idx = tf.argmin(dists, 0)\n",
    "        bmu_loc = tf.stack([tf.mod(bmu_idx, self.width), tf.div(bmu_idx, self.width)])\n",
    "        return bmu_loc"
   ]
  },
  {
   "cell_type": "code",
   "execution_count": 10,
   "metadata": {},
   "outputs": [],
   "source": [
    "    def get_locs(self):\n",
    "        locs = [[x, y]\n",
    "               for y in range(self.height)\n",
    "               for x in range(self.width)]\n",
    "        return tf.to_float(locs)"
   ]
  },
  {
   "cell_type": "code",
   "execution_count": 11,
   "metadata": {},
   "outputs": [],
   "source": [
    "    def train(self, data):\n",
    "        with tf.Session() as sess:\n",
    "            sess.run(tf.global_variables_initalizer())\n",
    "            for i in range(self.num_iters):\n",
    "                for data_x in data:\n",
    "                    sess.run(self.propagate_nodes, feed_dict={self.x: data_x, self.iter: i})\n",
    "            centroid_grid = [[] for i in range(self.width)]\n",
    "            self.nodes_val = list(sess.run(self.nodes))\n",
    "            self.locs_val = list(sess.run(self.nodes_locs))\n",
    "            for i, l in enumerate(self.locs_val):\n",
    "                centroid_grid[int(1[0])].append(self.nodes_val[i])\n",
    "            self.centroid_grid = centroid_grid"
   ]
  },
  {
   "cell_type": "code",
   "execution_count": null,
   "metadata": {},
   "outputs": [
    {
     "name": "stderr",
     "output_type": "stream",
     "text": [
      " Training...\n",
      " pca_linear_initialization took: 0.090000 seconds\n",
      " Rough training...\n",
      " radius_ini: 13.000000 , radius_final: 3.250000, trainlen: 30000\n",
      "\n",
      " epoch: 1 ---> elapsed time:  2.465000, quantization error: 0.259720\n",
      "\n",
      " epoch: 2 ---> elapsed time:  2.504000, quantization error: 0.047691\n",
      "\n",
      " epoch: 3 ---> elapsed time:  2.185000, quantization error: 0.029811\n",
      "\n",
      " epoch: 4 ---> elapsed time:  2.144000, quantization error: 0.015312\n",
      "\n",
      " epoch: 5 ---> elapsed time:  2.150000, quantization error: 0.010758\n",
      "\n",
      " epoch: 6 ---> elapsed time:  2.139000, quantization error: 0.009396\n",
      "\n",
      " epoch: 7 ---> elapsed time:  2.167000, quantization error: 0.008428\n",
      "\n",
      " epoch: 8 ---> elapsed time:  2.152000, quantization error: 0.010138\n",
      "\n",
      " epoch: 9 ---> elapsed time:  2.231000, quantization error: 0.008703\n",
      "\n",
      " epoch: 10 ---> elapsed time:  2.238000, quantization error: 0.008652\n",
      "\n",
      " epoch: 11 ---> elapsed time:  2.207000, quantization error: 0.008303\n",
      "\n",
      " epoch: 12 ---> elapsed time:  2.323000, quantization error: 0.008311\n",
      "\n",
      " epoch: 13 ---> elapsed time:  2.216000, quantization error: 0.008272\n",
      "\n",
      " epoch: 14 ---> elapsed time:  2.427000, quantization error: 0.009842\n",
      "\n",
      " epoch: 15 ---> elapsed time:  2.358000, quantization error: 0.010183\n",
      "\n",
      " epoch: 16 ---> elapsed time:  2.296000, quantization error: 0.009049\n",
      "\n",
      " epoch: 17 ---> elapsed time:  2.244000, quantization error: 0.008792\n",
      "\n",
      " epoch: 18 ---> elapsed time:  2.225000, quantization error: 0.008580\n",
      "\n",
      " epoch: 19 ---> elapsed time:  2.223000, quantization error: 0.008366\n",
      "\n"
     ]
    }
   ],
   "source": [
    "from matplotlib import pyplot as plt\n",
    "import numpy as np\n",
    "import sompy\n",
    "\n",
    "colors = np.array(\n",
    "     [[0., 0., 1.],\n",
    "      [0., 0., 0.95],\n",
    "      [0., 0.05, 1.],\n",
    "      [0., 1., 0.],\n",
    "      [0., 0.95, 0.],\n",
    "      [0., 1, 0.05],\n",
    "      [1., 0., 0.],\n",
    "      [1., 0.05, 0.],\n",
    "      [1., 0., 0.05],\n",
    "      [1., 1., 0.]])\n",
    "\n",
    "#som = sompy.SOMFactory.build(4, 4, 3)\n",
    "mapsize = [100, 100]\n",
    "som = sompy.SOMFactory.build(colors, mapsize, mask=None, mapshape='planar', lattice='rect', \n",
    "                             normalization='var', initialization='pca', neighborhood='gaussian', \n",
    "                             training='batch', name='sompy')\n",
    "#som.train(colors)\n",
    "#som.train(n_job=1, verbose='info')\n",
    "som.train(n_job=1, verbose='info')\n",
    "v = sompy.mapview.View2DPacked(100, 100, 'test',text_size=8)\n",
    "v.show(som, what='codebook', which_dim=\"all\", cmap=None, col_sz=6) #which_dim='all' default\n",
    "# v.save('2d_packed_test')"
   ]
  },
  {
   "cell_type": "code",
   "execution_count": null,
   "metadata": {},
   "outputs": [],
   "source": []
  }
 ],
 "metadata": {
  "kernelspec": {
   "display_name": "Python 3",
   "language": "python",
   "name": "python3"
  },
  "language_info": {
   "codemirror_mode": {
    "name": "ipython",
    "version": 3
   },
   "file_extension": ".py",
   "mimetype": "text/x-python",
   "name": "python",
   "nbconvert_exporter": "python",
   "pygments_lexer": "ipython3",
   "version": "3.6.5"
  }
 },
 "nbformat": 4,
 "nbformat_minor": 2
}
