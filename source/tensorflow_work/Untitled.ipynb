{
 "cells": [
  {
   "cell_type": "code",
   "execution_count": null,
   "metadata": {},
   "outputs": [],
   "source": [
    "import numpy as np\n",
    "import tensorflow as tf\n",
    "import matplotlib.pyplot as plt\n",
    "\n",
    "learning_rate = 0.1\n",
    "training_epochs = 2000\n",
    "\n",
    "def sigmoid(x):\n",
    "    return 1. / (1. + np.exp(-x))\n",
    "\n",
    "x1_label = np.random.normal(3, 1, 1000)\n",
    "x2_label = np.random.normal(2, 1, 1000)\n",
    "x1_label2 = np.random.normal(7, 1, 1000)\n",
    "x2_label2 = np.random.normal(6, 1, 1000)\n",
    "x1s = np.append(x1_label1, x1_label2)\n",
    "x2s = np.append(x2_label1, x1_label2)\n",
    "ys = np.asarray([0.] * len(x1_label1) + [1.] * len(x1_label2))\n",
    "\n"
   ]
  }
 ],
 "metadata": {
  "kernelspec": {
   "display_name": "Python 3",
   "language": "python",
   "name": "python3"
  },
  "language_info": {
   "codemirror_mode": {
    "name": "ipython",
    "version": 3
   },
   "file_extension": ".py",
   "mimetype": "text/x-python",
   "name": "python",
   "nbconvert_exporter": "python",
   "pygments_lexer": "ipython3",
   "version": "3.6.4"
  }
 },
 "nbformat": 4,
 "nbformat_minor": 2
}
